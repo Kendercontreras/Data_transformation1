{
  "nbformat": 4,
  "nbformat_minor": 0,
  "metadata": {
    "colab": {
      "provenance": []
    },
    "kernelspec": {
      "name": "python3",
      "display_name": "Python 3"
    },
    "language_info": {
      "name": "python"
    }
  },
  "cells": [
    {
      "cell_type": "markdown",
      "source": [
        "**Transformación de datos con Pandas**"
      ],
      "metadata": {
        "id": "G0LByxmnktqw"
      }
    },
    {
      "cell_type": "markdown",
      "source": [
        "El siguiente proyecto, tiene como objetivo unificar varios archivos, almacenados en un directorio, con el fin de hacer un solo archivo unificado y, luego de eso, limpiar y transformar los datos, hasta tener una base final limpia y bien estructurada. Este es un proyecto real, realizado para una empresa de telecomunicaciones. Sin embargo, para la práctica, se usará una cantidad de archivos reducido, con data simplificada y con información ficticia, con el objetivo de proteger los datos privados de la empresa."
      ],
      "metadata": {
        "id": "9ea7PMAtk4K6"
      }
    },
    {
      "cell_type": "markdown",
      "source": [
        "**Parte I: Importación de librerías y carga de datos al dataframe**"
      ],
      "metadata": {
        "id": "sAbaxutwoGo4"
      }
    },
    {
      "cell_type": "markdown",
      "source": [
        "Antes que nada, nos conectaremos a nuestro Google Colab para extraer los archivos."
      ],
      "metadata": {
        "id": "fkZy1hLmpYRa"
      }
    },
    {
      "cell_type": "code",
      "source": [
        "from google.colab import drive\n",
        "drive.mount('/content/drive')"
      ],
      "metadata": {
        "colab": {
          "base_uri": "https://localhost:8080/",
          "height": 0
        },
        "id": "Wqy1p6obqCmb",
        "outputId": "e864b510-1b41-4c9b-c096-09588d530cb9"
      },
      "execution_count": 24,
      "outputs": [
        {
          "output_type": "stream",
          "name": "stdout",
          "text": [
            "Drive already mounted at /content/drive; to attempt to forcibly remount, call drive.mount(\"/content/drive\", force_remount=True).\n"
          ]
        }
      ]
    },
    {
      "cell_type": "code",
      "source": [
        "pip install datetime"
      ],
      "metadata": {
        "colab": {
          "base_uri": "https://localhost:8080/",
          "height": 0
        },
        "id": "pShHTlDDtIfE",
        "outputId": "6a7ef8fb-bb69-4244-d24a-ce68d7085545"
      },
      "execution_count": 60,
      "outputs": [
        {
          "output_type": "stream",
          "name": "stdout",
          "text": [
            "Collecting datetime\n",
            "  Downloading DateTime-5.2-py3-none-any.whl (52 kB)\n",
            "\u001b[2K     \u001b[90m━━━━━━━━━━━━━━━━━━━━━━━━━━━━━━━━━━━━━━━━\u001b[0m \u001b[32m52.2/52.2 kB\u001b[0m \u001b[31m1.5 MB/s\u001b[0m eta \u001b[36m0:00:00\u001b[0m\n",
            "\u001b[?25hCollecting zope.interface (from datetime)\n",
            "  Downloading zope.interface-6.0-cp310-cp310-manylinux_2_5_x86_64.manylinux1_x86_64.manylinux_2_17_x86_64.manylinux2014_x86_64.whl (246 kB)\n",
            "\u001b[2K     \u001b[90m━━━━━━━━━━━━━━━━━━━━━━━━━━━━━━━━━━━━━━\u001b[0m \u001b[32m247.0/247.0 kB\u001b[0m \u001b[31m11.0 MB/s\u001b[0m eta \u001b[36m0:00:00\u001b[0m\n",
            "\u001b[?25hRequirement already satisfied: pytz in /usr/local/lib/python3.10/dist-packages (from datetime) (2023.3.post1)\n",
            "Requirement already satisfied: setuptools in /usr/local/lib/python3.10/dist-packages (from zope.interface->datetime) (67.7.2)\n",
            "Installing collected packages: zope.interface, datetime\n",
            "Successfully installed datetime-5.2 zope.interface-6.0\n"
          ]
        }
      ]
    },
    {
      "cell_type": "markdown",
      "source": [
        "Ahora importaremos las librerías necesarias y cargaremos el archivo a un df, utilizando la librería os, para crear listas de directorios y acceder a todos los archivos, para unificarlos."
      ],
      "metadata": {
        "id": "s3sqigODrbrg"
      }
    },
    {
      "cell_type": "code",
      "source": [
        "import pandas as pd\n",
        "import os\n",
        "import glob"
      ],
      "metadata": {
        "id": "22PAKS2Os2pe"
      },
      "execution_count": 25,
      "outputs": []
    },
    {
      "cell_type": "code",
      "source": [
        "# Crear lista con los archivos presentes en el directorio y asignarlos a la variable \"files\"\n",
        "files = os.listdir('/content/drive/My Drive/python_projects/XLS')"
      ],
      "metadata": {
        "id": "TFuG52seA5pX"
      },
      "execution_count": 26,
      "outputs": []
    },
    {
      "cell_type": "code",
      "source": [
        "# Acceder a cada archivo con el ciclo 'for' y agregarlo a un dataframe\n",
        "for i in files:\n",
        "  df = pd.read_excel('/content/drive/My Drive/python_projects/XLS/'+i)"
      ],
      "metadata": {
        "id": "ilT0cmgCBeHQ"
      },
      "execution_count": 27,
      "outputs": []
    },
    {
      "cell_type": "markdown",
      "source": [
        "Realizaremos una exploración inicial de los datos"
      ],
      "metadata": {
        "id": "da7Zuh2evBN0"
      }
    },
    {
      "cell_type": "code",
      "source": [
        "  print(df.info())"
      ],
      "metadata": {
        "colab": {
          "base_uri": "https://localhost:8080/",
          "height": 0
        },
        "id": "jm4uebAOvJWR",
        "outputId": "31067514-2cf4-467b-eb34-cfd4a65fc791"
      },
      "execution_count": 28,
      "outputs": [
        {
          "output_type": "stream",
          "name": "stdout",
          "text": [
            "<class 'pandas.core.frame.DataFrame'>\n",
            "RangeIndex: 46 entries, 0 to 45\n",
            "Data columns (total 26 columns):\n",
            " #   Column                      Non-Null Count  Dtype  \n",
            "---  ------                      --------------  -----  \n",
            " 0   ID_ORDEN                    46 non-null     object \n",
            " 1   ID_ORDEN_DE_DESPACHO        46 non-null     object \n",
            " 2   ID_DE_ACCION_DE_ORDEN       46 non-null     object \n",
            " 3   NOMBRE_DEL_CLIENTE          46 non-null     object \n",
            " 4   DOCUMENTO_CLIENTE_TIPO      46 non-null     object \n",
            " 5   DOCUMENTO_CLIENTE           46 non-null     object \n",
            " 6   DOCUMENTO_CLIENTE_DV        46 non-null     object \n",
            " 7   USUARIO_CREACION            46 non-null     object \n",
            " 8   TIPO_DE_REQUERIMIENTO       46 non-null     object \n",
            " 9   ESTADO                      46 non-null     object \n",
            " 10  FECHA_HORA_DEL_ESTADO       46 non-null     object \n",
            " 11  COMENTARIO_FLAG_ERROR       46 non-null     object \n",
            " 12  PRODUCTO_1                  46 non-null     int64  \n",
            " 13  PRODUCTO_2                  46 non-null     int64  \n",
            " 14  SISTEMA_DE_ORIGEN           46 non-null     object \n",
            " 15  CANAL                       46 non-null     object \n",
            " 16  FECHA_ESTADO_AGENDADO       46 non-null     object \n",
            " 17  FECHA_ALTA                  26 non-null     object \n",
            " 18  MONTH_FINALIZATION          0 non-null      float64\n",
            " 19  SERIE                       42 non-null     object \n",
            " 20  MSISDN                      3 non-null      object \n",
            " 21  NUMERO_DE_GUIA_DE_DESPACHO  41 non-null     object \n",
            " 22  ID_ASIGNACION_OTR           46 non-null     object \n",
            " 23  TIPO_CONFIRMACION           3 non-null      float64\n",
            " 24  CODIGO_CLIENTE              43 non-null     object \n",
            " 25  ESTADO_ANTERIOR             46 non-null     object \n",
            "dtypes: float64(2), int64(2), object(22)\n",
            "memory usage: 9.5+ KB\n",
            "None\n"
          ]
        }
      ]
    },
    {
      "cell_type": "code",
      "source": [
        "  df.head(2)"
      ],
      "metadata": {
        "colab": {
          "base_uri": "https://localhost:8080/",
          "height": 196
        },
        "id": "GJPJUVKBvNW2",
        "outputId": "5c917086-631b-440f-cfcf-c135b261c8f0"
      },
      "execution_count": 29,
      "outputs": [
        {
          "output_type": "execute_result",
          "data": {
            "text/plain": [
              "  ID_ORDEN ID_ORDEN_DE_DESPACHO ID_DE_ACCION_DE_ORDEN NOMBRE_DEL_CLIENTE  \\\n",
              "0  eenapsr            entcssrap             entcssray          Cliente_1   \n",
              "1  eenapsr            entcssrap             entcssray          Cliente_1   \n",
              "\n",
              "  DOCUMENTO_CLIENTE_TIPO DOCUMENTO_CLIENTE DOCUMENTO_CLIENTE_DV  \\\n",
              "0                    RUT          scsptocc                    a   \n",
              "1                    RUT          scsptocc                    a   \n",
              "\n",
              "  USUARIO_CREACION TIPO_DE_REQUERIMIENTO     ESTADO  ...  \\\n",
              "0        usuario_1                Tipo_1  Estado_12  ...   \n",
              "1        usuario_1                Tipo_1  Estado_12  ...   \n",
              "\n",
              "         FECHA_ESTADO_AGENDADO FECHA_ALTA  MONTH_FINALIZATION  SERIE MSISDN  \\\n",
              "0  05/12/22 10:40:44,000000000        NaN                 NaN    NaN    NaN   \n",
              "1  05/12/22 10:40:44,000000000        NaN                 NaN    NaN    NaN   \n",
              "\n",
              "  NUMERO_DE_GUIA_DE_DESPACHO ID_ASIGNACION_OTR TIPO_CONFIRMACION  \\\n",
              "0                        NaN           eenapsr               NaN   \n",
              "1                        NaN           eenapsr               NaN   \n",
              "\n",
              "   CODIGO_CLIENTE ESTADO_ANTERIOR  \n",
              "0     oeorrepts.c        Estado_4  \n",
              "1     oeorrepts.c        Estado_4  \n",
              "\n",
              "[2 rows x 26 columns]"
            ],
            "text/html": [
              "\n",
              "  <div id=\"df-48d3611a-5c81-4655-93c5-97a9165ec53a\" class=\"colab-df-container\">\n",
              "    <div>\n",
              "<style scoped>\n",
              "    .dataframe tbody tr th:only-of-type {\n",
              "        vertical-align: middle;\n",
              "    }\n",
              "\n",
              "    .dataframe tbody tr th {\n",
              "        vertical-align: top;\n",
              "    }\n",
              "\n",
              "    .dataframe thead th {\n",
              "        text-align: right;\n",
              "    }\n",
              "</style>\n",
              "<table border=\"1\" class=\"dataframe\">\n",
              "  <thead>\n",
              "    <tr style=\"text-align: right;\">\n",
              "      <th></th>\n",
              "      <th>ID_ORDEN</th>\n",
              "      <th>ID_ORDEN_DE_DESPACHO</th>\n",
              "      <th>ID_DE_ACCION_DE_ORDEN</th>\n",
              "      <th>NOMBRE_DEL_CLIENTE</th>\n",
              "      <th>DOCUMENTO_CLIENTE_TIPO</th>\n",
              "      <th>DOCUMENTO_CLIENTE</th>\n",
              "      <th>DOCUMENTO_CLIENTE_DV</th>\n",
              "      <th>USUARIO_CREACION</th>\n",
              "      <th>TIPO_DE_REQUERIMIENTO</th>\n",
              "      <th>ESTADO</th>\n",
              "      <th>...</th>\n",
              "      <th>FECHA_ESTADO_AGENDADO</th>\n",
              "      <th>FECHA_ALTA</th>\n",
              "      <th>MONTH_FINALIZATION</th>\n",
              "      <th>SERIE</th>\n",
              "      <th>MSISDN</th>\n",
              "      <th>NUMERO_DE_GUIA_DE_DESPACHO</th>\n",
              "      <th>ID_ASIGNACION_OTR</th>\n",
              "      <th>TIPO_CONFIRMACION</th>\n",
              "      <th>CODIGO_CLIENTE</th>\n",
              "      <th>ESTADO_ANTERIOR</th>\n",
              "    </tr>\n",
              "  </thead>\n",
              "  <tbody>\n",
              "    <tr>\n",
              "      <th>0</th>\n",
              "      <td>eenapsr</td>\n",
              "      <td>entcssrap</td>\n",
              "      <td>entcssray</td>\n",
              "      <td>Cliente_1</td>\n",
              "      <td>RUT</td>\n",
              "      <td>scsptocc</td>\n",
              "      <td>a</td>\n",
              "      <td>usuario_1</td>\n",
              "      <td>Tipo_1</td>\n",
              "      <td>Estado_12</td>\n",
              "      <td>...</td>\n",
              "      <td>05/12/22 10:40:44,000000000</td>\n",
              "      <td>NaN</td>\n",
              "      <td>NaN</td>\n",
              "      <td>NaN</td>\n",
              "      <td>NaN</td>\n",
              "      <td>NaN</td>\n",
              "      <td>eenapsr</td>\n",
              "      <td>NaN</td>\n",
              "      <td>oeorrepts.c</td>\n",
              "      <td>Estado_4</td>\n",
              "    </tr>\n",
              "    <tr>\n",
              "      <th>1</th>\n",
              "      <td>eenapsr</td>\n",
              "      <td>entcssrap</td>\n",
              "      <td>entcssray</td>\n",
              "      <td>Cliente_1</td>\n",
              "      <td>RUT</td>\n",
              "      <td>scsptocc</td>\n",
              "      <td>a</td>\n",
              "      <td>usuario_1</td>\n",
              "      <td>Tipo_1</td>\n",
              "      <td>Estado_12</td>\n",
              "      <td>...</td>\n",
              "      <td>05/12/22 10:40:44,000000000</td>\n",
              "      <td>NaN</td>\n",
              "      <td>NaN</td>\n",
              "      <td>NaN</td>\n",
              "      <td>NaN</td>\n",
              "      <td>NaN</td>\n",
              "      <td>eenapsr</td>\n",
              "      <td>NaN</td>\n",
              "      <td>oeorrepts.c</td>\n",
              "      <td>Estado_4</td>\n",
              "    </tr>\n",
              "  </tbody>\n",
              "</table>\n",
              "<p>2 rows × 26 columns</p>\n",
              "</div>\n",
              "    <div class=\"colab-df-buttons\">\n",
              "\n",
              "  <div class=\"colab-df-container\">\n",
              "    <button class=\"colab-df-convert\" onclick=\"convertToInteractive('df-48d3611a-5c81-4655-93c5-97a9165ec53a')\"\n",
              "            title=\"Convert this dataframe to an interactive table.\"\n",
              "            style=\"display:none;\">\n",
              "\n",
              "  <svg xmlns=\"http://www.w3.org/2000/svg\" height=\"24px\" viewBox=\"0 -960 960 960\">\n",
              "    <path d=\"M120-120v-720h720v720H120Zm60-500h600v-160H180v160Zm220 220h160v-160H400v160Zm0 220h160v-160H400v160ZM180-400h160v-160H180v160Zm440 0h160v-160H620v160ZM180-180h160v-160H180v160Zm440 0h160v-160H620v160Z\"/>\n",
              "  </svg>\n",
              "    </button>\n",
              "\n",
              "  <style>\n",
              "    .colab-df-container {\n",
              "      display:flex;\n",
              "      gap: 12px;\n",
              "    }\n",
              "\n",
              "    .colab-df-convert {\n",
              "      background-color: #E8F0FE;\n",
              "      border: none;\n",
              "      border-radius: 50%;\n",
              "      cursor: pointer;\n",
              "      display: none;\n",
              "      fill: #1967D2;\n",
              "      height: 32px;\n",
              "      padding: 0 0 0 0;\n",
              "      width: 32px;\n",
              "    }\n",
              "\n",
              "    .colab-df-convert:hover {\n",
              "      background-color: #E2EBFA;\n",
              "      box-shadow: 0px 1px 2px rgba(60, 64, 67, 0.3), 0px 1px 3px 1px rgba(60, 64, 67, 0.15);\n",
              "      fill: #174EA6;\n",
              "    }\n",
              "\n",
              "    .colab-df-buttons div {\n",
              "      margin-bottom: 4px;\n",
              "    }\n",
              "\n",
              "    [theme=dark] .colab-df-convert {\n",
              "      background-color: #3B4455;\n",
              "      fill: #D2E3FC;\n",
              "    }\n",
              "\n",
              "    [theme=dark] .colab-df-convert:hover {\n",
              "      background-color: #434B5C;\n",
              "      box-shadow: 0px 1px 3px 1px rgba(0, 0, 0, 0.15);\n",
              "      filter: drop-shadow(0px 1px 2px rgba(0, 0, 0, 0.3));\n",
              "      fill: #FFFFFF;\n",
              "    }\n",
              "  </style>\n",
              "\n",
              "    <script>\n",
              "      const buttonEl =\n",
              "        document.querySelector('#df-48d3611a-5c81-4655-93c5-97a9165ec53a button.colab-df-convert');\n",
              "      buttonEl.style.display =\n",
              "        google.colab.kernel.accessAllowed ? 'block' : 'none';\n",
              "\n",
              "      async function convertToInteractive(key) {\n",
              "        const element = document.querySelector('#df-48d3611a-5c81-4655-93c5-97a9165ec53a');\n",
              "        const dataTable =\n",
              "          await google.colab.kernel.invokeFunction('convertToInteractive',\n",
              "                                                    [key], {});\n",
              "        if (!dataTable) return;\n",
              "\n",
              "        const docLinkHtml = 'Like what you see? Visit the ' +\n",
              "          '<a target=\"_blank\" href=https://colab.research.google.com/notebooks/data_table.ipynb>data table notebook</a>'\n",
              "          + ' to learn more about interactive tables.';\n",
              "        element.innerHTML = '';\n",
              "        dataTable['output_type'] = 'display_data';\n",
              "        await google.colab.output.renderOutput(dataTable, element);\n",
              "        const docLink = document.createElement('div');\n",
              "        docLink.innerHTML = docLinkHtml;\n",
              "        element.appendChild(docLink);\n",
              "      }\n",
              "    </script>\n",
              "  </div>\n",
              "\n",
              "\n",
              "<div id=\"df-40f54586-649f-45e8-9aeb-fda355cc61cd\">\n",
              "  <button class=\"colab-df-quickchart\" onclick=\"quickchart('df-40f54586-649f-45e8-9aeb-fda355cc61cd')\"\n",
              "            title=\"Suggest charts.\"\n",
              "            style=\"display:none;\">\n",
              "\n",
              "<svg xmlns=\"http://www.w3.org/2000/svg\" height=\"24px\"viewBox=\"0 0 24 24\"\n",
              "     width=\"24px\">\n",
              "    <g>\n",
              "        <path d=\"M19 3H5c-1.1 0-2 .9-2 2v14c0 1.1.9 2 2 2h14c1.1 0 2-.9 2-2V5c0-1.1-.9-2-2-2zM9 17H7v-7h2v7zm4 0h-2V7h2v10zm4 0h-2v-4h2v4z\"/>\n",
              "    </g>\n",
              "</svg>\n",
              "  </button>\n",
              "\n",
              "<style>\n",
              "  .colab-df-quickchart {\n",
              "      --bg-color: #E8F0FE;\n",
              "      --fill-color: #1967D2;\n",
              "      --hover-bg-color: #E2EBFA;\n",
              "      --hover-fill-color: #174EA6;\n",
              "      --disabled-fill-color: #AAA;\n",
              "      --disabled-bg-color: #DDD;\n",
              "  }\n",
              "\n",
              "  [theme=dark] .colab-df-quickchart {\n",
              "      --bg-color: #3B4455;\n",
              "      --fill-color: #D2E3FC;\n",
              "      --hover-bg-color: #434B5C;\n",
              "      --hover-fill-color: #FFFFFF;\n",
              "      --disabled-bg-color: #3B4455;\n",
              "      --disabled-fill-color: #666;\n",
              "  }\n",
              "\n",
              "  .colab-df-quickchart {\n",
              "    background-color: var(--bg-color);\n",
              "    border: none;\n",
              "    border-radius: 50%;\n",
              "    cursor: pointer;\n",
              "    display: none;\n",
              "    fill: var(--fill-color);\n",
              "    height: 32px;\n",
              "    padding: 0;\n",
              "    width: 32px;\n",
              "  }\n",
              "\n",
              "  .colab-df-quickchart:hover {\n",
              "    background-color: var(--hover-bg-color);\n",
              "    box-shadow: 0 1px 2px rgba(60, 64, 67, 0.3), 0 1px 3px 1px rgba(60, 64, 67, 0.15);\n",
              "    fill: var(--button-hover-fill-color);\n",
              "  }\n",
              "\n",
              "  .colab-df-quickchart-complete:disabled,\n",
              "  .colab-df-quickchart-complete:disabled:hover {\n",
              "    background-color: var(--disabled-bg-color);\n",
              "    fill: var(--disabled-fill-color);\n",
              "    box-shadow: none;\n",
              "  }\n",
              "\n",
              "  .colab-df-spinner {\n",
              "    border: 2px solid var(--fill-color);\n",
              "    border-color: transparent;\n",
              "    border-bottom-color: var(--fill-color);\n",
              "    animation:\n",
              "      spin 1s steps(1) infinite;\n",
              "  }\n",
              "\n",
              "  @keyframes spin {\n",
              "    0% {\n",
              "      border-color: transparent;\n",
              "      border-bottom-color: var(--fill-color);\n",
              "      border-left-color: var(--fill-color);\n",
              "    }\n",
              "    20% {\n",
              "      border-color: transparent;\n",
              "      border-left-color: var(--fill-color);\n",
              "      border-top-color: var(--fill-color);\n",
              "    }\n",
              "    30% {\n",
              "      border-color: transparent;\n",
              "      border-left-color: var(--fill-color);\n",
              "      border-top-color: var(--fill-color);\n",
              "      border-right-color: var(--fill-color);\n",
              "    }\n",
              "    40% {\n",
              "      border-color: transparent;\n",
              "      border-right-color: var(--fill-color);\n",
              "      border-top-color: var(--fill-color);\n",
              "    }\n",
              "    60% {\n",
              "      border-color: transparent;\n",
              "      border-right-color: var(--fill-color);\n",
              "    }\n",
              "    80% {\n",
              "      border-color: transparent;\n",
              "      border-right-color: var(--fill-color);\n",
              "      border-bottom-color: var(--fill-color);\n",
              "    }\n",
              "    90% {\n",
              "      border-color: transparent;\n",
              "      border-bottom-color: var(--fill-color);\n",
              "    }\n",
              "  }\n",
              "</style>\n",
              "\n",
              "  <script>\n",
              "    async function quickchart(key) {\n",
              "      const quickchartButtonEl =\n",
              "        document.querySelector('#' + key + ' button');\n",
              "      quickchartButtonEl.disabled = true;  // To prevent multiple clicks.\n",
              "      quickchartButtonEl.classList.add('colab-df-spinner');\n",
              "      try {\n",
              "        const charts = await google.colab.kernel.invokeFunction(\n",
              "            'suggestCharts', [key], {});\n",
              "      } catch (error) {\n",
              "        console.error('Error during call to suggestCharts:', error);\n",
              "      }\n",
              "      quickchartButtonEl.classList.remove('colab-df-spinner');\n",
              "      quickchartButtonEl.classList.add('colab-df-quickchart-complete');\n",
              "    }\n",
              "    (() => {\n",
              "      let quickchartButtonEl =\n",
              "        document.querySelector('#df-40f54586-649f-45e8-9aeb-fda355cc61cd button');\n",
              "      quickchartButtonEl.style.display =\n",
              "        google.colab.kernel.accessAllowed ? 'block' : 'none';\n",
              "    })();\n",
              "  </script>\n",
              "</div>\n",
              "    </div>\n",
              "  </div>\n"
            ]
          },
          "metadata": {},
          "execution_count": 29
        }
      ]
    },
    {
      "cell_type": "markdown",
      "source": [
        "Para comenzar con la transformación de los datos, uniremos las columnas \"DOCUMENTO_CLIENTE\" y \"DOCUMENTO_CLIENTE_DV\" para crear una nueva columna llamada \"RUT\". Actualmente se encuentran de la siguiente forma:"
      ],
      "metadata": {
        "id": "7rUDUgBhvVPd"
      }
    },
    {
      "cell_type": "code",
      "source": [
        "  print(df[[\"DOCUMENTO_CLIENTE\",\"DOCUMENTO_CLIENTE_DV\"]].head(2))"
      ],
      "metadata": {
        "colab": {
          "base_uri": "https://localhost:8080/",
          "height": 0
        },
        "id": "3JXafMfLVzfV",
        "outputId": "11e53e8a-c600-4714-d670-14f5246c8429"
      },
      "execution_count": 30,
      "outputs": [
        {
          "output_type": "stream",
          "name": "stdout",
          "text": [
            "  DOCUMENTO_CLIENTE DOCUMENTO_CLIENTE_DV\n",
            "0          scsptocc                    a\n",
            "1          scsptocc                    a\n"
          ]
        }
      ]
    },
    {
      "cell_type": "markdown",
      "source": [
        "Aplicaremos la transformación"
      ],
      "metadata": {
        "id": "4Pd71Pj2V9aC"
      }
    },
    {
      "cell_type": "code",
      "source": [
        "  df[\"RUT\"] = df[[\"DOCUMENTO_CLIENTE\",\"DOCUMENTO_CLIENTE_DV\"]].apply(\"-\".join, axis=1)\n",
        "  print(df[\"RUT\"].head(2))"
      ],
      "metadata": {
        "colab": {
          "base_uri": "https://localhost:8080/",
          "height": 0
        },
        "id": "_s9alhtvVDb3",
        "outputId": "ebedacc1-fd03-4c54-da22-bc556c6a38a9"
      },
      "execution_count": 31,
      "outputs": [
        {
          "output_type": "stream",
          "name": "stdout",
          "text": [
            "0    scsptocc-a\n",
            "1    scsptocc-a\n",
            "Name: RUT, dtype: object\n"
          ]
        }
      ]
    },
    {
      "cell_type": "markdown",
      "source": [
        "Ahora, eliminaremos las columnas que no utilizaremos."
      ],
      "metadata": {
        "id": "822ZAzr3WB59"
      }
    },
    {
      "cell_type": "code",
      "source": [
        "  df = df.drop([\"ID_ORDEN\",\"ID_DE_ACCION_DE_ORDEN\",\"DOCUMENTO_CLIENTE_TIPO\",\"DOCUMENTO_CLIENTE\",\"DOCUMENTO_CLIENTE_DV\",\"CANAL\",\"FECHA_ALTA\",\"MONTH_FINALIZATION\",\"SERIE\",\"MSISDN\",\"NUMERO_DE_GUIA_DE_DESPACHO\",\"ID_ASIGNACION_OTR\"],axis=1)"
      ],
      "metadata": {
        "id": "mymNZkq4VOHL"
      },
      "execution_count": 32,
      "outputs": []
    },
    {
      "cell_type": "markdown",
      "source": [
        "Verificaremos que se hayan eliminado las columnas"
      ],
      "metadata": {
        "id": "yUIXqOHWWNRF"
      }
    },
    {
      "cell_type": "code",
      "source": [
        "  print(df.columns)"
      ],
      "metadata": {
        "colab": {
          "base_uri": "https://localhost:8080/",
          "height": 0
        },
        "id": "kzwLXS57WTxW",
        "outputId": "33173c0f-8ab8-44e0-f66b-5a2f59caf82e"
      },
      "execution_count": 33,
      "outputs": [
        {
          "output_type": "stream",
          "name": "stdout",
          "text": [
            "Index(['ID_ORDEN_DE_DESPACHO', 'NOMBRE_DEL_CLIENTE', 'USUARIO_CREACION',\n",
            "       'TIPO_DE_REQUERIMIENTO', 'ESTADO', 'FECHA_HORA_DEL_ESTADO',\n",
            "       'COMENTARIO_FLAG_ERROR', 'PRODUCTO_1', 'PRODUCTO_2',\n",
            "       'SISTEMA_DE_ORIGEN', 'FECHA_ESTADO_AGENDADO', 'TIPO_CONFIRMACION',\n",
            "       'CODIGO_CLIENTE', 'ESTADO_ANTERIOR', 'RUT'],\n",
            "      dtype='object')\n"
          ]
        }
      ]
    },
    {
      "cell_type": "markdown",
      "source": [
        "Guardaremos el archivo transformado, en un nuevo archivo, en este caso csv para mejorar el rendimiento de las próximas transformaciones. No se sobreescribirá el archivo original para evitar perder información valiosa."
      ],
      "metadata": {
        "id": "5pjEYyOQXFMI"
      }
    },
    {
      "cell_type": "code",
      "source": [
        "  df.to_csv('/content/drive/My Drive/python_projects/CSV/' + i[:12] + '_new.csv')"
      ],
      "metadata": {
        "id": "tpU8ozyFXk2d"
      },
      "execution_count": 34,
      "outputs": []
    },
    {
      "cell_type": "markdown",
      "source": [
        "Ahora, consolidaremos todos los archivos en uno solo, con toda la información, con un pd.concat"
      ],
      "metadata": {
        "id": "H2ReHT4SFI8u"
      }
    },
    {
      "cell_type": "code",
      "source": [
        "consolidado_anual = os.path.join(\"/content/drive/My Drive/python_projects/CSV/\",\"*.csv\")\n",
        "list_files_2 = glob.glob(consolidado_anual)\n",
        "df = pd.concat(map(pd.read_csv, list_files_2), ignore_index=True)\n",
        "print(df.info())\n",
        "df.to_csv(\"/content/drive/My Drive/python_projects/CSV/Consolidado.csv\",sep=\",\",encoding=\"utf-8\")"
      ],
      "metadata": {
        "colab": {
          "base_uri": "https://localhost:8080/",
          "height": 0
        },
        "id": "FSCjXnx4Fe-R",
        "outputId": "a77486fb-1402-4822-a026-34485ea3c885"
      },
      "execution_count": 35,
      "outputs": [
        {
          "output_type": "stream",
          "name": "stdout",
          "text": [
            "<class 'pandas.core.frame.DataFrame'>\n",
            "RangeIndex: 9152 entries, 0 to 9151\n",
            "Data columns (total 23 columns):\n",
            " #   Column                 Non-Null Count  Dtype  \n",
            "---  ------                 --------------  -----  \n",
            " 0   Unnamed: 0             9152 non-null   int64  \n",
            " 1   ID_ORDEN_DE_DESPACHO   9152 non-null   object \n",
            " 2   NOMBRE_DEL_CLIENTE     9152 non-null   object \n",
            " 3   USUARIO_CREACION       9152 non-null   object \n",
            " 4   TIPO_DE_REQUERIMIENTO  9152 non-null   object \n",
            " 5   ESTADO                 9152 non-null   object \n",
            " 6   FECHA_HORA_DEL_ESTADO  9152 non-null   object \n",
            " 7   COMENTARIO_FLAG_ERROR  9128 non-null   object \n",
            " 8   PRODUCTO_1             9152 non-null   int64  \n",
            " 9   PRODUCTO_2             9152 non-null   int64  \n",
            " 10  SISTEMA_DE_ORIGEN      9152 non-null   object \n",
            " 11  FECHA_ESTADO_AGENDADO  9152 non-null   object \n",
            " 12  TIPO_CONFIRMACION      8616 non-null   float64\n",
            " 13  CODIGO_CLIENTE         536 non-null    object \n",
            " 14  ESTADO_ANTERIOR        9152 non-null   object \n",
            " 15  RUT                    9152 non-null   object \n",
            " 16  Unnamed: 0.7           8008 non-null   float64\n",
            " 17  Unnamed: 0.6           6864 non-null   float64\n",
            " 18  Unnamed: 0.5           5720 non-null   float64\n",
            " 19  Unnamed: 0.4           4576 non-null   float64\n",
            " 20  Unnamed: 0.3           3432 non-null   float64\n",
            " 21  Unnamed: 0.2           2288 non-null   float64\n",
            " 22  Unnamed: 0.1           1144 non-null   float64\n",
            "dtypes: float64(8), int64(3), object(12)\n",
            "memory usage: 1.6+ MB\n",
            "None\n"
          ]
        }
      ]
    },
    {
      "cell_type": "markdown",
      "source": [
        "Ahora, importaremos el archivo consolidado a un nuevo dataframe"
      ],
      "metadata": {
        "id": "tO5MiouClfnF"
      }
    },
    {
      "cell_type": "code",
      "source": [
        "df_consolidado = pd.read_csv('/content/drive/My Drive/python_projects/CSV/Consolidado.csv')\n",
        "print(df_consolidado.head(2))"
      ],
      "metadata": {
        "colab": {
          "base_uri": "https://localhost:8080/",
          "height": 0
        },
        "id": "kZJBA211mTgt",
        "outputId": "b6bc61bf-7821-42a6-9954-5f5253372276"
      },
      "execution_count": 36,
      "outputs": [
        {
          "output_type": "stream",
          "name": "stdout",
          "text": [
            "   Unnamed: 0.8  Unnamed: 0 ID_ORDEN_DE_DESPACHO NOMBRE_DEL_CLIENTE  \\\n",
            "0             0           0           mcccoyporc          Cliente_1   \n",
            "1             1           1           mcccoyporc          Cliente_1   \n",
            "\n",
            "  USUARIO_CREACION TIPO_DE_REQUERIMIENTO     ESTADO FECHA_HORA_DEL_ESTADO  \\\n",
            "0        usuario_1                Tipo_5  Estado_14   2023-01-23 16:15:16   \n",
            "1        usuario_1                Tipo_5  Estado_14   2023-01-23 16:15:16   \n",
            "\n",
            "  COMENTARIO_FLAG_ERROR  PRODUCTO_1  ...  CODIGO_CLIENTE ESTADO_ANTERIOR  \\\n",
            "0            En Gestion           0  ...             NaN        Estado_9   \n",
            "1            En Gestion           0  ...             NaN        Estado_9   \n",
            "\n",
            "          RUT  Unnamed: 0.7 Unnamed: 0.6 Unnamed: 0.5 Unnamed: 0.4  \\\n",
            "0  ssntrsrt-K           NaN          NaN          NaN          NaN   \n",
            "1  ssntrsrt-K           NaN          NaN          NaN          NaN   \n",
            "\n",
            "   Unnamed: 0.3  Unnamed: 0.2  Unnamed: 0.1  \n",
            "0           NaN           NaN           NaN  \n",
            "1           NaN           NaN           NaN  \n",
            "\n",
            "[2 rows x 24 columns]\n"
          ]
        }
      ]
    },
    {
      "cell_type": "markdown",
      "source": [
        "Convertiremos la columna FECHA_HORA_DEL_ESTADO al tipo de dato 'datetime', para luego ordenar al dataframe por esta columna, del valor más reciente al más antiguo"
      ],
      "metadata": {
        "id": "BxyRkLZYsJ7T"
      }
    },
    {
      "cell_type": "code",
      "source": [
        "df_consolidado['FECHA_HORA_DEL_ESTADO'] = pd.to_datetime(df_consolidado['FECHA_HORA_DEL_ESTADO'])\n",
        "print(df_consolidado['FECHA_HORA_DEL_ESTADO'].head(2))"
      ],
      "metadata": {
        "colab": {
          "base_uri": "https://localhost:8080/",
          "height": 0
        },
        "id": "GOjwl-gbsiLg",
        "outputId": "7fafd2a7-d2c0-49bd-89da-3b455576dfd5"
      },
      "execution_count": 37,
      "outputs": [
        {
          "output_type": "stream",
          "name": "stdout",
          "text": [
            "0   2023-01-23 16:15:16\n",
            "1   2023-01-23 16:15:16\n",
            "Name: FECHA_HORA_DEL_ESTADO, dtype: datetime64[ns]\n"
          ]
        }
      ]
    },
    {
      "cell_type": "code",
      "source": [
        "df_consolidado = df_consolidado.sort_values('FECHA_HORA_DEL_ESTADO', ascending=False)\n",
        "print(df_consolidado.head(5))"
      ],
      "metadata": {
        "colab": {
          "base_uri": "https://localhost:8080/",
          "height": 0
        },
        "id": "pOLqCUHnxwVW",
        "outputId": "ca67e492-7ffc-4fc3-afa0-bd5a5ba39813"
      },
      "execution_count": 38,
      "outputs": [
        {
          "output_type": "stream",
          "name": "stdout",
          "text": [
            "      Unnamed: 0.8  Unnamed: 0 ID_ORDEN_DE_DESPACHO NOMBRE_DEL_CLIENTE  \\\n",
            "1040          1040         531           mcccoysspc          Cliente_6   \n",
            "3374          3374         531           mcccoysspc          Cliente_6   \n",
            "7950          7950         531           mcccoysspc          Cliente_6   \n",
            "9094          9094         531           mcccoysspc          Cliente_6   \n",
            "1041          1041         532           mcccoysspc          Cliente_6   \n",
            "\n",
            "     USUARIO_CREACION TIPO_DE_REQUERIMIENTO     ESTADO FECHA_HORA_DEL_ESTADO  \\\n",
            "1040        usuario_5                Tipo_5  Estado_14   2023-02-07 15:41:00   \n",
            "3374        usuario_5                Tipo_5  Estado_14   2023-02-07 15:41:00   \n",
            "7950        usuario_5                Tipo_5  Estado_14   2023-02-07 15:41:00   \n",
            "9094        usuario_5                Tipo_5  Estado_14   2023-02-07 15:41:00   \n",
            "1041        usuario_5                Tipo_5  Estado_14   2023-02-07 15:41:00   \n",
            "\n",
            "     COMENTARIO_FLAG_ERROR  PRODUCTO_1  ...  CODIGO_CLIENTE ESTADO_ANTERIOR  \\\n",
            "1040            En Gestion           1  ...             NaN        Estado_9   \n",
            "3374            En Gestion           1  ...             NaN        Estado_9   \n",
            "7950            En Gestion           1  ...             NaN        Estado_9   \n",
            "9094            En Gestion           1  ...             NaN        Estado_9   \n",
            "1041            En Gestion           1  ...             NaN        Estado_9   \n",
            "\n",
            "             RUT  Unnamed: 0.7 Unnamed: 0.6 Unnamed: 0.5 Unnamed: 0.4  \\\n",
            "1040  aoncnccc-c           NaN          NaN          NaN          NaN   \n",
            "3374  aoncnccc-c        2230.0       1086.0          NaN          NaN   \n",
            "7950  aoncnccc-c        6806.0       5662.0       4518.0       3374.0   \n",
            "9094  aoncnccc-c        7950.0       6806.0       5662.0       4518.0   \n",
            "1041  aoncnccc-c           NaN          NaN          NaN          NaN   \n",
            "\n",
            "      Unnamed: 0.3  Unnamed: 0.2  Unnamed: 0.1  \n",
            "1040           NaN           NaN           NaN  \n",
            "3374           NaN           NaN           NaN  \n",
            "7950        2230.0        1086.0           NaN  \n",
            "9094        3374.0        2230.0        1086.0  \n",
            "1041           NaN           NaN           NaN  \n",
            "\n",
            "[5 rows x 24 columns]\n"
          ]
        }
      ]
    },
    {
      "cell_type": "markdown",
      "source": [
        "A partir de esto, se eliminarán los registros que en la columna \"ID_ORDEN_DE_DESPACHO\", se encuentren duplicadas"
      ],
      "metadata": {
        "id": "9IdXclZo1qNY"
      }
    },
    {
      "cell_type": "code",
      "source": [
        "df_consolidado = df_consolidado.drop_duplicates(\"ID_ORDEN_DE_DESPACHO\")\n",
        "print(df_consolidado.info())"
      ],
      "metadata": {
        "colab": {
          "base_uri": "https://localhost:8080/",
          "height": 0
        },
        "id": "67Bl9ZAD10Q-",
        "outputId": "7af8c2ec-13ac-49bd-b0be-4adcd073c59b"
      },
      "execution_count": 39,
      "outputs": [
        {
          "output_type": "stream",
          "name": "stdout",
          "text": [
            "<class 'pandas.core.frame.DataFrame'>\n",
            "Int64Index: 36 entries, 1040 to 2243\n",
            "Data columns (total 24 columns):\n",
            " #   Column                 Non-Null Count  Dtype         \n",
            "---  ------                 --------------  -----         \n",
            " 0   Unnamed: 0.8           36 non-null     int64         \n",
            " 1   Unnamed: 0             36 non-null     int64         \n",
            " 2   ID_ORDEN_DE_DESPACHO   36 non-null     object        \n",
            " 3   NOMBRE_DEL_CLIENTE     36 non-null     object        \n",
            " 4   USUARIO_CREACION       36 non-null     object        \n",
            " 5   TIPO_DE_REQUERIMIENTO  36 non-null     object        \n",
            " 6   ESTADO                 36 non-null     object        \n",
            " 7   FECHA_HORA_DEL_ESTADO  36 non-null     datetime64[ns]\n",
            " 8   COMENTARIO_FLAG_ERROR  34 non-null     object        \n",
            " 9   PRODUCTO_1             36 non-null     int64         \n",
            " 10  PRODUCTO_2             36 non-null     int64         \n",
            " 11  SISTEMA_DE_ORIGEN      36 non-null     object        \n",
            " 12  FECHA_ESTADO_AGENDADO  36 non-null     object        \n",
            " 13  TIPO_CONFIRMACION      9 non-null      float64       \n",
            " 14  CODIGO_CLIENTE         27 non-null     object        \n",
            " 15  ESTADO_ANTERIOR        36 non-null     object        \n",
            " 16  RUT                    36 non-null     object        \n",
            " 17  Unnamed: 0.7           32 non-null     float64       \n",
            " 18  Unnamed: 0.6           29 non-null     float64       \n",
            " 19  Unnamed: 0.5           23 non-null     float64       \n",
            " 20  Unnamed: 0.4           21 non-null     float64       \n",
            " 21  Unnamed: 0.3           18 non-null     float64       \n",
            " 22  Unnamed: 0.2           12 non-null     float64       \n",
            " 23  Unnamed: 0.1           10 non-null     float64       \n",
            "dtypes: datetime64[ns](1), float64(8), int64(4), object(11)\n",
            "memory usage: 7.0+ KB\n",
            "None\n"
          ]
        }
      ]
    },
    {
      "cell_type": "markdown",
      "source": [
        "Guardamos el nuevo dataframe en un archivo excel final. Con esto, terminamos la transformación de los datos de este proyecto."
      ],
      "metadata": {
        "id": "ScJaA4Ja3SV4"
      }
    },
    {
      "cell_type": "code",
      "source": [
        "df_consolidado.to_excel('/content/drive/My Drive/python_projects/CSV/Consolidado_sin_duplicados.xlsx')"
      ],
      "metadata": {
        "id": "-QNfaXEH3hKz"
      },
      "execution_count": 40,
      "outputs": []
    }
  ]
}